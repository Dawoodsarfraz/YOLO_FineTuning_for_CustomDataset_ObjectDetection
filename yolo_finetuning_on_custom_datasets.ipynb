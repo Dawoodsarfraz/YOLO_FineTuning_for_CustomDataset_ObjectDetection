{
 "cells": [
  {
   "cell_type": "markdown",
   "id": "bd248e97",
   "metadata": {},
   "source": [
    "<h4> <i>This notebook is created for <b>YOLOv12</b> Fine tuning for Object Detection.</i></h4>"
   ]
  },
  {
   "cell_type": "code",
   "execution_count": 1,
   "id": "d9c06a39",
   "metadata": {},
   "outputs": [
    {
     "data": {
      "text/plain": [
       "'/home/dawood/Documents/DSAIL/ResearchWork/.venv/bin/python'"
      ]
     },
     "execution_count": 1,
     "metadata": {},
     "output_type": "execute_result"
    }
   ],
   "source": [
    "import sys\n",
    "sys.executable\n",
    "\n",
    "# I have create .venv in other folder and accessing from that folder "
   ]
  },
  {
   "cell_type": "code",
   "execution_count": 2,
   "id": "09fc8baf",
   "metadata": {},
   "outputs": [
    {
     "name": "stderr",
     "output_type": "stream",
     "text": [
      "2025-10-29 09:41:55.541756: I external/local_xla/xla/tsl/cuda/cudart_stub.cc:32] Could not find cuda drivers on your machine, GPU will not be used.\n",
      "2025-10-29 09:41:55.756673: I external/local_xla/xla/tsl/cuda/cudart_stub.cc:32] Could not find cuda drivers on your machine, GPU will not be used.\n",
      "2025-10-29 09:41:55.926742: E external/local_xla/xla/stream_executor/cuda/cuda_fft.cc:467] Unable to register cuFFT factory: Attempting to register factory for plugin cuFFT when one has already been registered\n",
      "WARNING: All log messages before absl::InitializeLog() is called are written to STDERR\n",
      "E0000 00:00:1761712916.101622    5852 cuda_dnn.cc:8579] Unable to register cuDNN factory: Attempting to register factory for plugin cuDNN when one has already been registered\n",
      "E0000 00:00:1761712916.146972    5852 cuda_blas.cc:1407] Unable to register cuBLAS factory: Attempting to register factory for plugin cuBLAS when one has already been registered\n",
      "W0000 00:00:1761712916.513515    5852 computation_placer.cc:177] computation placer already registered. Please check linkage and avoid linking the same target more than once.\n",
      "W0000 00:00:1761712916.513562    5852 computation_placer.cc:177] computation placer already registered. Please check linkage and avoid linking the same target more than once.\n",
      "W0000 00:00:1761712916.513567    5852 computation_placer.cc:177] computation placer already registered. Please check linkage and avoid linking the same target more than once.\n",
      "W0000 00:00:1761712916.513572    5852 computation_placer.cc:177] computation placer already registered. Please check linkage and avoid linking the same target more than once.\n"
     ]
    }
   ],
   "source": [
    "import tensorflow"
   ]
  },
  {
   "cell_type": "code",
   "execution_count": 3,
   "id": "d48cc3f7",
   "metadata": {},
   "outputs": [
    {
     "data": {
      "text/plain": [
       "'8.3.199'"
      ]
     },
     "execution_count": 3,
     "metadata": {},
     "output_type": "execute_result"
    }
   ],
   "source": [
    "ultralytics.__version__"
   ]
  },
  {
   "cell_type": "code",
   "execution_count": 4,
   "id": "3453f19c",
   "metadata": {},
   "outputs": [],
   "source": [
    "del ultralytics # if want to remove something from memory use this"
   ]
  },
  {
   "cell_type": "code",
   "execution_count": 21,
   "id": "63cc9624",
   "metadata": {},
   "outputs": [
    {
     "ename": "NameError",
     "evalue": "name 'ultralytics' is not defined",
     "output_type": "error",
     "traceback": [
      "\u001b[0;31m---------------------------------------------------------------------------\u001b[0m",
      "\u001b[0;31mNameError\u001b[0m                                 Traceback (most recent call last)",
      "Cell \u001b[0;32mIn[21], line 1\u001b[0m\n\u001b[0;32m----> 1\u001b[0m \u001b[43multralytics\u001b[49m\u001b[38;5;241m.\u001b[39m__version__\n",
      "\u001b[0;31mNameError\u001b[0m: name 'ultralytics' is not defined"
     ]
    }
   ],
   "source": [
    "ultralytics.__version__"
   ]
  },
  {
   "cell_type": "code",
   "execution_count": null,
   "id": "252037a0",
   "metadata": {},
   "outputs": [],
   "source": []
  }
 ],
 "metadata": {
  "kernelspec": {
   "display_name": ".venv",
   "language": "python",
   "name": "python3"
  },
  "language_info": {
   "codemirror_mode": {
    "name": "ipython",
    "version": 3
   },
   "file_extension": ".py",
   "mimetype": "text/x-python",
   "name": "python",
   "nbconvert_exporter": "python",
   "pygments_lexer": "ipython3",
   "version": "3.10.12"
  }
 },
 "nbformat": 4,
 "nbformat_minor": 5
}
