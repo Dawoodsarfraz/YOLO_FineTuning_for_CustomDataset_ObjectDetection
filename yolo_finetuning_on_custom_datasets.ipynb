{
 "cells": [
  {
   "cell_type": "markdown",
   "id": "bd248e97",
   "metadata": {},
   "source": [
    "<h4> <i>This notebook is created for <b>YOLOv12</b> Fine tuning for Object Detection.</i></h4>"
   ]
  },
  {
   "cell_type": "code",
   "execution_count": 1,
   "id": "d9c06a39",
   "metadata": {},
   "outputs": [
    {
     "data": {
      "text/plain": [
       "'/home/dawood/Documents/DSAIL/ResearchWork/.venv/bin/python'"
      ]
     },
     "execution_count": 1,
     "metadata": {},
     "output_type": "execute_result"
    }
   ],
   "source": [
    "import sys\n",
    "sys.executable\n",
    "\n",
    "# I have create .venv in other folder and accessing from that folder \n",
    "# python -m ipykernel install --user --name=.venv --display-name \"Python (.venv)\""
   ]
  },
  {
   "cell_type": "code",
   "execution_count": 2,
   "id": "09fc8baf",
   "metadata": {},
   "outputs": [
    {
     "name": "stdout",
     "output_type": "stream",
     "text": [
      "New https://pypi.org/project/ultralytics/8.3.222 available 😃 Update with 'pip install -U ultralytics'\n",
      "Ultralytics 8.3.199 🚀 Python-3.10.12 torch-2.8.0+cpu CPU (Intel Core i5-3230M 2.60GHz)\n",
      "\u001b[34m\u001b[1mengine/trainer: \u001b[0magnostic_nms=False, amp=True, augment=False, auto_augment=randaugment, batch=16, bgr=0.0, box=7.5, cache=False, cfg=None, classes=None, close_mosaic=10, cls=0.5, compile=False, conf=None, copy_paste=0.0, copy_paste_mode=flip, cos_lr=False, cutmix=0.0, data=./datasets/cat/data.yaml, degrees=0.0, deterministic=True, device=cpu, dfl=1.5, dnn=False, dropout=0.0, dynamic=False, embed=None, epochs=100, erasing=0.4, exist_ok=False, fliplr=0.5, flipud=0.0, format=torchscript, fraction=1.0, freeze=None, half=False, hsv_h=0.015, hsv_s=0.7, hsv_v=0.4, imgsz=640, int8=False, iou=0.7, keras=False, kobj=1.0, line_width=None, lr0=0.01, lrf=0.01, mask_ratio=4, max_det=300, mixup=0.0, mode=train, model=models/detection/yolo11n.pt, momentum=0.937, mosaic=1.0, multi_scale=False, name=train2, nbs=64, nms=False, opset=None, optimize=False, optimizer=auto, overlap_mask=True, patience=100, perspective=0.0, plots=True, pose=12.0, pretrained=True, profile=False, project=None, rect=False, resume=False, retina_masks=False, save=True, save_conf=False, save_crop=False, save_dir=/home/dawood/Documents/GitHub/YOLO_FineTuning_for_CustomDataset_ObjectDetection/runs/detect/train2, save_frames=False, save_json=False, save_period=-1, save_txt=False, scale=0.5, seed=0, shear=0.0, show=False, show_boxes=True, show_conf=True, show_labels=True, simplify=True, single_cls=False, source=None, split=val, stream_buffer=False, task=detect, time=None, tracker=botsort.yaml, translate=0.1, val=True, verbose=True, vid_stride=1, visualize=False, warmup_bias_lr=0.1, warmup_epochs=3.0, warmup_momentum=0.8, weight_decay=0.0005, workers=8, workspace=None\n",
      "Overriding model.yaml nc=80 with nc=3\n",
      "\n",
      "                   from  n    params  module                                       arguments                     \n",
      "  0                  -1  1       464  ultralytics.nn.modules.conv.Conv             [3, 16, 3, 2]                 \n",
      "  1                  -1  1      4672  ultralytics.nn.modules.conv.Conv             [16, 32, 3, 2]                \n",
      "  2                  -1  1      6640  ultralytics.nn.modules.block.C3k2            [32, 64, 1, False, 0.25]      \n",
      "  3                  -1  1     36992  ultralytics.nn.modules.conv.Conv             [64, 64, 3, 2]                \n",
      "  4                  -1  1     26080  ultralytics.nn.modules.block.C3k2            [64, 128, 1, False, 0.25]     \n",
      "  5                  -1  1    147712  ultralytics.nn.modules.conv.Conv             [128, 128, 3, 2]              \n",
      "  6                  -1  1     87040  ultralytics.nn.modules.block.C3k2            [128, 128, 1, True]           \n",
      "  7                  -1  1    295424  ultralytics.nn.modules.conv.Conv             [128, 256, 3, 2]              \n",
      "  8                  -1  1    346112  ultralytics.nn.modules.block.C3k2            [256, 256, 1, True]           \n",
      "  9                  -1  1    164608  ultralytics.nn.modules.block.SPPF            [256, 256, 5]                 \n",
      " 10                  -1  1    249728  ultralytics.nn.modules.block.C2PSA           [256, 256, 1]                 \n",
      " 11                  -1  1         0  torch.nn.modules.upsampling.Upsample         [None, 2, 'nearest']          \n",
      " 12             [-1, 6]  1         0  ultralytics.nn.modules.conv.Concat           [1]                           \n",
      " 13                  -1  1    111296  ultralytics.nn.modules.block.C3k2            [384, 128, 1, False]          \n",
      " 14                  -1  1         0  torch.nn.modules.upsampling.Upsample         [None, 2, 'nearest']          \n",
      " 15             [-1, 4]  1         0  ultralytics.nn.modules.conv.Concat           [1]                           \n",
      " 16                  -1  1     32096  ultralytics.nn.modules.block.C3k2            [256, 64, 1, False]           \n",
      " 17                  -1  1     36992  ultralytics.nn.modules.conv.Conv             [64, 64, 3, 2]                \n",
      " 18            [-1, 13]  1         0  ultralytics.nn.modules.conv.Concat           [1]                           \n",
      " 19                  -1  1     86720  ultralytics.nn.modules.block.C3k2            [192, 128, 1, False]          \n",
      " 20                  -1  1    147712  ultralytics.nn.modules.conv.Conv             [128, 128, 3, 2]              \n",
      " 21            [-1, 10]  1         0  ultralytics.nn.modules.conv.Concat           [1]                           \n",
      " 22                  -1  1    378880  ultralytics.nn.modules.block.C3k2            [384, 256, 1, True]           \n",
      " 23        [16, 19, 22]  1    431257  ultralytics.nn.modules.head.Detect           [3, [64, 128, 256]]           \n"
     ]
    },
    {
     "name": "stderr",
     "output_type": "stream",
     "text": [
      "[W1029 19:33:32.244647024 NNPACK.cpp:56] Could not initialize NNPACK! Reason: Unsupported hardware.\n",
      "[W1029 19:33:32.265940487 NNPACK.cpp:56] Could not initialize NNPACK! Reason: Unsupported hardware.\n",
      "[W1029 19:33:32.266443438 NNPACK.cpp:56] Could not initialize NNPACK! Reason: Unsupported hardware.\n",
      "[W1029 19:33:32.267040674 NNPACK.cpp:56] Could not initialize NNPACK! Reason: Unsupported hardware.\n",
      "[W1029 19:33:32.267621999 NNPACK.cpp:56] Could not initialize NNPACK! Reason: Unsupported hardware.\n",
      "[W1029 19:33:32.268189368 NNPACK.cpp:56] Could not initialize NNPACK! Reason: Unsupported hardware.\n",
      "[W1029 19:33:32.268851034 NNPACK.cpp:56] Could not initialize NNPACK! Reason: Unsupported hardware.\n",
      "[W1029 19:33:32.269973434 NNPACK.cpp:56] Could not initialize NNPACK! Reason: Unsupported hardware.\n",
      "[W1029 19:33:32.275658415 NNPACK.cpp:56] Could not initialize NNPACK! Reason: Unsupported hardware.\n",
      "[W1029 19:33:32.276638610 NNPACK.cpp:56] Could not initialize NNPACK! Reason: Unsupported hardware.\n",
      "[W1029 19:33:32.277092727 NNPACK.cpp:56] Could not initialize NNPACK! Reason: Unsupported hardware.\n",
      "[W1029 19:33:32.277604443 NNPACK.cpp:56] Could not initialize NNPACK! Reason: Unsupported hardware.\n",
      "[W1029 19:33:32.278171593 NNPACK.cpp:56] Could not initialize NNPACK! Reason: Unsupported hardware.\n",
      "[W1029 19:33:32.278689716 NNPACK.cpp:56] Could not initialize NNPACK! Reason: Unsupported hardware.\n",
      "[W1029 19:33:32.279387258 NNPACK.cpp:56] Could not initialize NNPACK! Reason: Unsupported hardware.\n",
      "[W1029 19:33:32.279823677 NNPACK.cpp:56] Could not initialize NNPACK! Reason: Unsupported hardware.\n",
      "[W1029 19:33:32.282270661 NNPACK.cpp:56] Could not initialize NNPACK! Reason: Unsupported hardware.\n",
      "[W1029 19:33:32.290815037 NNPACK.cpp:56] Could not initialize NNPACK! Reason: Unsupported hardware.\n",
      "[W1029 19:33:32.292969135 NNPACK.cpp:56] Could not initialize NNPACK! Reason: Unsupported hardware.\n",
      "[W1029 19:33:32.306965593 NNPACK.cpp:56] Could not initialize NNPACK! Reason: Unsupported hardware.\n",
      "[W1029 19:33:32.307605780 NNPACK.cpp:56] Could not initialize NNPACK! Reason: Unsupported hardware.\n",
      "[W1029 19:33:32.308410837 NNPACK.cpp:56] Could not initialize NNPACK! Reason: Unsupported hardware.\n",
      "[W1029 19:33:32.310516288 NNPACK.cpp:56] Could not initialize NNPACK! Reason: Unsupported hardware.\n",
      "[W1029 19:33:32.317750258 NNPACK.cpp:56] Could not initialize NNPACK! Reason: Unsupported hardware.\n",
      "[W1029 19:33:32.319073316 NNPACK.cpp:56] Could not initialize NNPACK! Reason: Unsupported hardware.\n",
      "[W1029 19:33:32.327313851 NNPACK.cpp:56] Could not initialize NNPACK! Reason: Unsupported hardware.\n",
      "[W1029 19:33:32.334479738 NNPACK.cpp:56] Could not initialize NNPACK! Reason: Unsupported hardware.\n",
      "[W1029 19:33:32.335567364 NNPACK.cpp:56] Could not initialize NNPACK! Reason: Unsupported hardware.\n",
      "[W1029 19:33:32.341128445 NNPACK.cpp:56] Could not initialize NNPACK! Reason: Unsupported hardware.\n",
      "[W1029 19:33:32.341509894 NNPACK.cpp:56] Could not initialize NNPACK! Reason: Unsupported hardware.\n",
      "[W1029 19:33:32.342142008 NNPACK.cpp:56] Could not initialize NNPACK! Reason: Unsupported hardware.\n",
      "[W1029 19:33:32.342785732 NNPACK.cpp:56] Could not initialize NNPACK! Reason: Unsupported hardware.\n",
      "[W1029 19:33:32.343527863 NNPACK.cpp:56] Could not initialize NNPACK! Reason: Unsupported hardware.\n",
      "[W1029 19:33:32.344205023 NNPACK.cpp:56] Could not initialize NNPACK! Reason: Unsupported hardware.\n",
      "[W1029 19:33:32.344584979 NNPACK.cpp:56] Could not initialize NNPACK! Reason: Unsupported hardware.\n",
      "[W1029 19:33:32.364540955 NNPACK.cpp:56] Could not initialize NNPACK! Reason: Unsupported hardware.\n",
      "[W1029 19:33:32.365998252 NNPACK.cpp:56] Could not initialize NNPACK! Reason: Unsupported hardware.\n",
      "[W1029 19:33:32.369882714 NNPACK.cpp:56] Could not initialize NNPACK! Reason: Unsupported hardware.\n",
      "[W1029 19:33:32.370630160 NNPACK.cpp:56] Could not initialize NNPACK! Reason: Unsupported hardware.\n",
      "[W1029 19:33:32.372226461 NNPACK.cpp:56] Could not initialize NNPACK! Reason: Unsupported hardware.\n",
      "[W1029 19:33:32.374037282 NNPACK.cpp:56] Could not initialize NNPACK! Reason: Unsupported hardware.\n",
      "[W1029 19:33:32.374760712 NNPACK.cpp:56] Could not initialize NNPACK! Reason: Unsupported hardware.\n",
      "[W1029 19:33:32.376423643 NNPACK.cpp:56] Could not initialize NNPACK! Reason: Unsupported hardware.\n",
      "[W1029 19:33:32.378106307 NNPACK.cpp:56] Could not initialize NNPACK! Reason: Unsupported hardware.\n",
      "[W1029 19:33:32.378512825 NNPACK.cpp:56] Could not initialize NNPACK! Reason: Unsupported hardware.\n"
     ]
    },
    {
     "name": "stdout",
     "output_type": "stream",
     "text": [
      "YOLO11n summary: 181 layers, 2,590,425 parameters, 2,590,409 gradients, 6.4 GFLOPs\n",
      "\n",
      "Transferred 448/499 items from pretrained weights\n"
     ]
    },
    {
     "name": "stderr",
     "output_type": "stream",
     "text": [
      "[W1029 19:33:33.615681718 NNPACK.cpp:56] Could not initialize NNPACK! Reason: Unsupported hardware.\n",
      "[W1029 19:33:33.617577279 NNPACK.cpp:56] Could not initialize NNPACK! Reason: Unsupported hardware.\n",
      "[W1029 19:33:33.618480125 NNPACK.cpp:56] Could not initialize NNPACK! Reason: Unsupported hardware.\n",
      "[W1029 19:33:33.619202109 NNPACK.cpp:56] Could not initialize NNPACK! Reason: Unsupported hardware.\n",
      "[W1029 19:33:33.619832915 NNPACK.cpp:56] Could not initialize NNPACK! Reason: Unsupported hardware.\n",
      "[W1029 19:33:33.620564454 NNPACK.cpp:56] Could not initialize NNPACK! Reason: Unsupported hardware.\n",
      "[W1029 19:33:33.621343074 NNPACK.cpp:56] Could not initialize NNPACK! Reason: Unsupported hardware.\n",
      "[W1029 19:33:33.622129062 NNPACK.cpp:56] Could not initialize NNPACK! Reason: Unsupported hardware.\n",
      "[W1029 19:33:33.622816218 NNPACK.cpp:56] Could not initialize NNPACK! Reason: Unsupported hardware.\n",
      "[W1029 19:33:33.623620787 NNPACK.cpp:56] Could not initialize NNPACK! Reason: Unsupported hardware.\n",
      "[W1029 19:33:33.624364402 NNPACK.cpp:56] Could not initialize NNPACK! Reason: Unsupported hardware.\n",
      "[W1029 19:33:33.625106492 NNPACK.cpp:56] Could not initialize NNPACK! Reason: Unsupported hardware.\n",
      "[W1029 19:33:33.626022162 NNPACK.cpp:56] Could not initialize NNPACK! Reason: Unsupported hardware.\n",
      "[W1029 19:33:33.626899103 NNPACK.cpp:56] Could not initialize NNPACK! Reason: Unsupported hardware.\n",
      "[W1029 19:33:33.627721861 NNPACK.cpp:56] Could not initialize NNPACK! Reason: Unsupported hardware.\n",
      "[W1029 19:33:33.628495210 NNPACK.cpp:56] Could not initialize NNPACK! Reason: Unsupported hardware.\n",
      "[W1029 19:33:33.629266238 NNPACK.cpp:56] Could not initialize NNPACK! Reason: Unsupported hardware.\n",
      "[W1029 19:33:33.629962606 NNPACK.cpp:56] Could not initialize NNPACK! Reason: Unsupported hardware.\n",
      "[W1029 19:33:33.631215926 NNPACK.cpp:56] Could not initialize NNPACK! Reason: Unsupported hardware.\n",
      "[W1029 19:33:33.631904247 NNPACK.cpp:56] Could not initialize NNPACK! Reason: Unsupported hardware.\n",
      "[W1029 19:33:33.632610133 NNPACK.cpp:56] Could not initialize NNPACK! Reason: Unsupported hardware.\n",
      "[W1029 19:33:33.633385365 NNPACK.cpp:56] Could not initialize NNPACK! Reason: Unsupported hardware.\n",
      "[W1029 19:33:33.635523255 NNPACK.cpp:56] Could not initialize NNPACK! Reason: Unsupported hardware.\n",
      "[W1029 19:33:33.636363554 NNPACK.cpp:56] Could not initialize NNPACK! Reason: Unsupported hardware.\n",
      "[W1029 19:33:33.638186485 NNPACK.cpp:56] Could not initialize NNPACK! Reason: Unsupported hardware.\n",
      "[W1029 19:33:33.640349913 NNPACK.cpp:56] Could not initialize NNPACK! Reason: Unsupported hardware.\n",
      "[W1029 19:33:33.641119876 NNPACK.cpp:56] Could not initialize NNPACK! Reason: Unsupported hardware.\n",
      "[W1029 19:33:33.641791144 NNPACK.cpp:56] Could not initialize NNPACK! Reason: Unsupported hardware.\n",
      "[W1029 19:33:33.643141355 NNPACK.cpp:56] Could not initialize NNPACK! Reason: Unsupported hardware.\n",
      "[W1029 19:33:33.643791802 NNPACK.cpp:56] Could not initialize NNPACK! Reason: Unsupported hardware.\n",
      "[W1029 19:33:33.644462324 NNPACK.cpp:56] Could not initialize NNPACK! Reason: Unsupported hardware.\n",
      "[W1029 19:33:33.645204200 NNPACK.cpp:56] Could not initialize NNPACK! Reason: Unsupported hardware.\n",
      "[W1029 19:33:33.646255661 NNPACK.cpp:56] Could not initialize NNPACK! Reason: Unsupported hardware.\n",
      "[W1029 19:33:33.646897033 NNPACK.cpp:56] Could not initialize NNPACK! Reason: Unsupported hardware.\n",
      "[W1029 19:33:33.647580947 NNPACK.cpp:56] Could not initialize NNPACK! Reason: Unsupported hardware.\n",
      "[W1029 19:33:33.649854432 NNPACK.cpp:56] Could not initialize NNPACK! Reason: Unsupported hardware.\n",
      "[W1029 19:33:33.650492999 NNPACK.cpp:56] Could not initialize NNPACK! Reason: Unsupported hardware.\n",
      "[W1029 19:33:33.651149566 NNPACK.cpp:56] Could not initialize NNPACK! Reason: Unsupported hardware.\n",
      "[W1029 19:33:33.652800825 NNPACK.cpp:56] Could not initialize NNPACK! Reason: Unsupported hardware.\n",
      "[W1029 19:33:33.653762115 NNPACK.cpp:56] Could not initialize NNPACK! Reason: Unsupported hardware.\n",
      "[W1029 19:33:33.654509398 NNPACK.cpp:56] Could not initialize NNPACK! Reason: Unsupported hardware.\n",
      "[W1029 19:33:33.655169339 NNPACK.cpp:56] Could not initialize NNPACK! Reason: Unsupported hardware.\n",
      "[W1029 19:33:33.655850181 NNPACK.cpp:56] Could not initialize NNPACK! Reason: Unsupported hardware.\n",
      "[W1029 19:33:33.656907775 NNPACK.cpp:56] Could not initialize NNPACK! Reason: Unsupported hardware.\n",
      "[W1029 19:33:33.657714013 NNPACK.cpp:56] Could not initialize NNPACK! Reason: Unsupported hardware.\n",
      "[W1029 19:33:33.658413306 NNPACK.cpp:56] Could not initialize NNPACK! Reason: Unsupported hardware.\n",
      "[W1029 19:33:33.659135204 NNPACK.cpp:56] Could not initialize NNPACK! Reason: Unsupported hardware.\n",
      "[W1029 19:33:33.659742548 NNPACK.cpp:56] Could not initialize NNPACK! Reason: Unsupported hardware.\n",
      "[W1029 19:33:33.660454712 NNPACK.cpp:56] Could not initialize NNPACK! Reason: Unsupported hardware.\n",
      "[W1029 19:33:33.661202406 NNPACK.cpp:56] Could not initialize NNPACK! Reason: Unsupported hardware.\n",
      "[W1029 19:33:33.661887905 NNPACK.cpp:56] Could not initialize NNPACK! Reason: Unsupported hardware.\n",
      "[W1029 19:33:33.662579357 NNPACK.cpp:56] Could not initialize NNPACK! Reason: Unsupported hardware.\n",
      "[W1029 19:33:33.663249361 NNPACK.cpp:56] Could not initialize NNPACK! Reason: Unsupported hardware.\n",
      "[W1029 19:33:33.663938959 NNPACK.cpp:56] Could not initialize NNPACK! Reason: Unsupported hardware.\n",
      "[W1029 19:33:33.664688293 NNPACK.cpp:56] Could not initialize NNPACK! Reason: Unsupported hardware.\n",
      "[W1029 19:33:33.665410341 NNPACK.cpp:56] Could not initialize NNPACK! Reason: Unsupported hardware.\n",
      "[W1029 19:33:33.666084743 NNPACK.cpp:56] Could not initialize NNPACK! Reason: Unsupported hardware.\n",
      "[W1029 19:33:33.666763125 NNPACK.cpp:56] Could not initialize NNPACK! Reason: Unsupported hardware.\n",
      "[W1029 19:33:33.667423511 NNPACK.cpp:56] Could not initialize NNPACK! Reason: Unsupported hardware.\n",
      "[W1029 19:33:33.668631583 NNPACK.cpp:56] Could not initialize NNPACK! Reason: Unsupported hardware.\n",
      "[W1029 19:33:33.669277170 NNPACK.cpp:56] Could not initialize NNPACK! Reason: Unsupported hardware.\n",
      "[W1029 19:33:33.669940105 NNPACK.cpp:56] Could not initialize NNPACK! Reason: Unsupported hardware.\n",
      "[W1029 19:33:33.670667056 NNPACK.cpp:56] Could not initialize NNPACK! Reason: Unsupported hardware.\n",
      "[W1029 19:33:33.671488363 NNPACK.cpp:56] Could not initialize NNPACK! Reason: Unsupported hardware.\n",
      "[W1029 19:33:33.672306479 NNPACK.cpp:56] Could not initialize NNPACK! Reason: Unsupported hardware.\n",
      "[W1029 19:33:33.674783119 NNPACK.cpp:56] Could not initialize NNPACK! Reason: Unsupported hardware.\n",
      "[W1029 19:33:33.676783931 NNPACK.cpp:56] Could not initialize NNPACK! Reason: Unsupported hardware.\n",
      "[W1029 19:33:33.677905771 NNPACK.cpp:56] Could not initialize NNPACK! Reason: Unsupported hardware.\n",
      "[W1029 19:33:33.679067975 NNPACK.cpp:56] Could not initialize NNPACK! Reason: Unsupported hardware.\n",
      "[W1029 19:33:33.681344045 NNPACK.cpp:56] Could not initialize NNPACK! Reason: Unsupported hardware.\n",
      "[W1029 19:33:33.682746964 NNPACK.cpp:56] Could not initialize NNPACK! Reason: Unsupported hardware.\n",
      "[W1029 19:33:33.685613240 NNPACK.cpp:56] Could not initialize NNPACK! Reason: Unsupported hardware.\n",
      "[W1029 19:33:33.691537993 NNPACK.cpp:56] Could not initialize NNPACK! Reason: Unsupported hardware.\n",
      "[W1029 19:33:33.692843512 NNPACK.cpp:56] Could not initialize NNPACK! Reason: Unsupported hardware.\n",
      "[W1029 19:33:33.694025954 NNPACK.cpp:56] Could not initialize NNPACK! Reason: Unsupported hardware.\n",
      "[W1029 19:33:33.696438773 NNPACK.cpp:56] Could not initialize NNPACK! Reason: Unsupported hardware.\n",
      "[W1029 19:33:33.697280641 NNPACK.cpp:56] Could not initialize NNPACK! Reason: Unsupported hardware.\n",
      "[W1029 19:33:33.700920607 NNPACK.cpp:56] Could not initialize NNPACK! Reason: Unsupported hardware.\n",
      "[W1029 19:33:33.703448405 NNPACK.cpp:56] Could not initialize NNPACK! Reason: Unsupported hardware.\n",
      "[W1029 19:33:33.704515332 NNPACK.cpp:56] Could not initialize NNPACK! Reason: Unsupported hardware.\n",
      "[W1029 19:33:33.709248360 NNPACK.cpp:56] Could not initialize NNPACK! Reason: Unsupported hardware.\n"
     ]
    },
    {
     "name": "stdout",
     "output_type": "stream",
     "text": [
      "Freezing layer 'model.23.dfl.conv.weight'\n",
      "\u001b[34m\u001b[1mtrain: \u001b[0mFast image access ✅ (ping: 0.0±0.0 ms, read: 76.6±45.6 MB/s, size: 43.3 KB)\n",
      "\u001b[K\u001b[34m\u001b[1mtrain: \u001b[0mScanning /home/dawood/Documents/GitHub/YOLO_FineTuning_for_CustomDataset_ObjectDetection/datasets/cat/train/labels... 2196 images, 856 backgrounds, 0 corrupt: 100% ━━━━━━━━━━━━ 2196/2196 1.3Kit/s 1.7s0.1s\n",
      "\u001b[34m\u001b[1mtrain: \u001b[0mNew cache created: /home/dawood/Documents/GitHub/YOLO_FineTuning_for_CustomDataset_ObjectDetection/datasets/cat/train/labels.cache\n",
      "\u001b[34m\u001b[1mval: \u001b[0mFast image access ✅ (ping: 0.0±0.0 ms, read: 100.5±33.1 MB/s, size: 44.3 KB)\n",
      "\u001b[K\u001b[34m\u001b[1mval: \u001b[0mScanning /home/dawood/Documents/GitHub/YOLO_FineTuning_for_CustomDataset_ObjectDetection/datasets/cat/valid/labels... 604 images, 251 backgrounds, 0 corrupt: 100% ━━━━━━━━━━━━ 604/604 1.3Kit/s 0.5s<0.1s\n",
      "\u001b[34m\u001b[1mval: \u001b[0mNew cache created: /home/dawood/Documents/GitHub/YOLO_FineTuning_for_CustomDataset_ObjectDetection/datasets/cat/valid/labels.cache\n"
     ]
    },
    {
     "ename": "",
     "evalue": "",
     "output_type": "error",
     "traceback": [
      "\u001b[1;31mThe Kernel crashed while executing code in the current cell or a previous cell. \n",
      "\u001b[1;31mPlease review the code in the cell(s) to identify a possible cause of the failure. \n",
      "\u001b[1;31mClick <a href='https://aka.ms/vscodeJupyterKernelCrash'>here</a> for more info. \n",
      "\u001b[1;31mView Jupyter <a href='command:jupyter.viewOutput'>log</a> for further details."
     ]
    }
   ],
   "source": [
    "from ultralytics import YOLO\n",
    "\n",
    "# Load a pretrained YOLO11n model\n",
    "model = YOLO(\"models/detection/yolo11n.pt\")\n",
    "\n",
    "# Train the model on the COCO8 dataset for 100 epochs\n",
    "train_results = model.train(\n",
    "    data=\"./datasets/cat/data.yaml\",  # Path to dataset configuration file\n",
    "    epochs=100,  # Number of training epochs\n",
    "    imgsz=640,  # Image size for training\n",
    "    device=\"cpu\",  # Device to run on (e.g., 'cpu', 0, [0,1,2,3])\n",
    ")\n",
    "\n",
    "# Evaluate the model's performance on the validation set\n",
    "metrics = model.val()\n",
    "\n",
    "# Perform object detection on an image\n",
    "results = model(\"datasets/cat/test/images/egohands-public-1623336393688_png_jpg.rf.5d7655e038ea283c4eb1a587abc2ce09.jpg\")  # Predict on an image\n",
    "results[0].show()  # Display results\n",
    "\n",
    "# Export the model to ONNX format for deployment\n",
    "# path = model.export(format=\"onnx\")  # Returns the path to the exported model"
   ]
  },
  {
   "cell_type": "code",
   "execution_count": 3,
   "id": "d48cc3f7",
   "metadata": {},
   "outputs": [
    {
     "data": {
      "text/plain": [
       "'8.3.199'"
      ]
     },
     "execution_count": 3,
     "metadata": {},
     "output_type": "execute_result"
    }
   ],
   "source": [
    "ultralytics.__version__"
   ]
  },
  {
   "cell_type": "code",
   "execution_count": 4,
   "id": "3453f19c",
   "metadata": {},
   "outputs": [],
   "source": [
    "del ultralytics # if want to remove something from memory use this"
   ]
  },
  {
   "cell_type": "code",
   "execution_count": 21,
   "id": "63cc9624",
   "metadata": {},
   "outputs": [
    {
     "ename": "NameError",
     "evalue": "name 'ultralytics' is not defined",
     "output_type": "error",
     "traceback": [
      "\u001b[0;31m---------------------------------------------------------------------------\u001b[0m",
      "\u001b[0;31mNameError\u001b[0m                                 Traceback (most recent call last)",
      "Cell \u001b[0;32mIn[21], line 1\u001b[0m\n\u001b[0;32m----> 1\u001b[0m \u001b[43multralytics\u001b[49m\u001b[38;5;241m.\u001b[39m__version__\n",
      "\u001b[0;31mNameError\u001b[0m: name 'ultralytics' is not defined"
     ]
    }
   ],
   "source": [
    "ultralytics.__version__"
   ]
  },
  {
   "cell_type": "code",
   "execution_count": null,
   "id": "252037a0",
   "metadata": {},
   "outputs": [],
   "source": []
  }
 ],
 "metadata": {
  "kernelspec": {
   "display_name": "Python (.venv)",
   "language": "python",
   "name": ".venv"
  },
  "language_info": {
   "codemirror_mode": {
    "name": "ipython",
    "version": 3
   },
   "file_extension": ".py",
   "mimetype": "text/x-python",
   "name": "python",
   "nbconvert_exporter": "python",
   "pygments_lexer": "ipython3",
   "version": "3.10.12"
  }
 },
 "nbformat": 4,
 "nbformat_minor": 5
}
